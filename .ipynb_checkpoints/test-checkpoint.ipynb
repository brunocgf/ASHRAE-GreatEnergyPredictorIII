{
 "cells": [
  {
   "cell_type": "code",
   "execution_count": 2,
   "metadata": {},
   "outputs": [],
   "source": [
    "import numpy as np\n",
    "import pandas as pd"
   ]
  },
  {
   "cell_type": "code",
   "execution_count": 3,
   "metadata": {},
   "outputs": [],
   "source": [
    "test = pd.read_csv('./data/test.csv')\n",
    "building_metadata = pd.read_csv('./data/building_metadata.csv')\n",
    "weather_test = pd.read_csv('./data/weather_test.csv')"
   ]
  },
  {
   "cell_type": "code",
   "execution_count": 4,
   "metadata": {},
   "outputs": [],
   "source": [
    "test = (test\n",
    ".merge(building_metadata, on = 'building_id', how='left')\n",
    ".merge(weather_test, on = ['site_id','timestamp'], how='left'))"
   ]
  },
  {
   "cell_type": "code",
   "execution_count": 5,
   "metadata": {},
   "outputs": [
    {
     "data": {
      "text/plain": [
       "row_id                  int64\n",
       "building_id             int64\n",
       "meter                   int64\n",
       "timestamp              object\n",
       "site_id                 int64\n",
       "primary_use            object\n",
       "square_feet             int64\n",
       "year_built            float64\n",
       "floor_count           float64\n",
       "air_temperature       float64\n",
       "cloud_coverage        float64\n",
       "dew_temperature       float64\n",
       "precip_depth_1_hr     float64\n",
       "sea_level_pressure    float64\n",
       "wind_direction        float64\n",
       "wind_speed            float64\n",
       "dtype: object"
      ]
     },
     "execution_count": 5,
     "metadata": {},
     "output_type": "execute_result"
    }
   ],
   "source": [
    "test.dtypes"
   ]
  },
  {
   "cell_type": "code",
   "execution_count": 6,
   "metadata": {},
   "outputs": [],
   "source": [
    "test['timestamp'] = pd.to_datetime(test['timestamp'])\n",
    "test['hour'] = test.timestamp.dt.hour\n",
    "test['wday'] = test.timestamp.dt.dayofweek\n",
    "test['week'] = test.timestamp.dt.weekofyear"
   ]
  },
  {
   "cell_type": "code",
   "execution_count": 7,
   "metadata": {},
   "outputs": [],
   "source": [
    "test.drop('timestamp', inplace=True, axis = 1)\n",
    "test.drop('primary_use', inplace=True, axis = 1)\n",
    "test.drop('year_built', inplace=True, axis = 1)\n",
    "test.drop('floor_count', inplace=True, axis = 1)\n",
    "test.drop('precip_depth_1_hr', inplace=True, axis = 1)\n",
    "test.drop('cloud_coverage', inplace=True, axis = 1)"
   ]
  },
  {
   "cell_type": "code",
   "execution_count": 8,
   "metadata": {},
   "outputs": [],
   "source": [
    "test.drop('day', inplace=True, axis = 1)"
   ]
  },
  {
   "cell_type": "code",
   "execution_count": 10,
   "metadata": {},
   "outputs": [
    {
     "data": {
      "text/plain": [
       "row_id                  int64\n",
       "building_id             int64\n",
       "meter                   int64\n",
       "site_id                 int64\n",
       "square_feet             int64\n",
       "air_temperature       float64\n",
       "dew_temperature       float64\n",
       "sea_level_pressure    float64\n",
       "wind_direction        float64\n",
       "wind_speed            float64\n",
       "hour                    int64\n",
       "wday                    int64\n",
       "week                    int64\n",
       "dtype: object"
      ]
     },
     "execution_count": 10,
     "metadata": {},
     "output_type": "execute_result"
    }
   ],
   "source": [
    "test.dtypes"
   ]
  },
  {
   "cell_type": "code",
   "execution_count": 11,
   "metadata": {},
   "outputs": [
    {
     "data": {
      "text/plain": [
       "(41697600, 13)"
      ]
     },
     "execution_count": 11,
     "metadata": {},
     "output_type": "execute_result"
    }
   ],
   "source": [
    "test.shape"
   ]
  },
  {
   "cell_type": "code",
   "execution_count": 12,
   "metadata": {},
   "outputs": [
    {
     "data": {
      "text/plain": [
       "row_id                0.000000\n",
       "building_id           0.000000\n",
       "meter                 0.000000\n",
       "site_id               0.000000\n",
       "square_feet           0.000000\n",
       "air_temperature       0.005322\n",
       "dew_temperature       0.006255\n",
       "sea_level_pressure    0.060359\n",
       "wind_direction        0.071435\n",
       "wind_speed            0.007245\n",
       "hour                  0.000000\n",
       "wday                  0.000000\n",
       "week                  0.000000\n",
       "dtype: float64"
      ]
     },
     "execution_count": 12,
     "metadata": {},
     "output_type": "execute_result"
    }
   ],
   "source": [
    "test.isnull().sum()/41697600"
   ]
  },
  {
   "cell_type": "code",
   "execution_count": null,
   "metadata": {},
   "outputs": [],
   "source": []
  }
 ],
 "metadata": {
  "kernelspec": {
   "display_name": "Python 3",
   "language": "python",
   "name": "python3"
  },
  "language_info": {
   "codemirror_mode": {
    "name": "ipython",
    "version": 3
   },
   "file_extension": ".py",
   "mimetype": "text/x-python",
   "name": "python",
   "nbconvert_exporter": "python",
   "pygments_lexer": "ipython3",
   "version": "3.7.3"
  }
 },
 "nbformat": 4,
 "nbformat_minor": 2
}
